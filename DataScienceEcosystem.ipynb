{
 "cells": [
  {
   "cell_type": "markdown",
   "id": "a636cdf9-2001-49c8-9f48-5697e8e1a752",
   "metadata": {},
   "source": [
    "# Data Science Tools and Ecosystem"
   ]
  },
  {
   "cell_type": "markdown",
   "id": "5ecda67e-92b8-4678-8b21-bb7116a6f10b",
   "metadata": {},
   "source": [
    "#### In this notebook, Data Science Tools and Ecosystem are summarized."
   ]
  },
  {
   "cell_type": "markdown",
   "id": "25881110-ff90-4728-9ae6-bb27c5ee5643",
   "metadata": {},
   "source": [
    "Some of the popular languages that Data Scientists use are:\n",
    "1. Python\n",
    "2. R\n",
    "3. SQL\n",
    "4. Java\n",
    "5. Julia\n",
    "6. JavaScript"
   ]
  },
  {
   "cell_type": "markdown",
   "id": "46b01900-422d-445a-9ae9-3c5d32773d93",
   "metadata": {},
   "source": [
    "Some of the commonly used libraries used by Data Scientists include:\n",
    "\n",
    "- In Python:\n",
    "    - pandas\n",
    "    - tensorflow\n",
    "    - matplotlib\n",
    "    - seaborn\n",
    "- In R:\n",
    "    - dplyr\n",
    "    - ggplot\n",
    "    - caret"
   ]
  },
  {
   "cell_type": "markdown",
   "id": "daddec0a-1c43-408b-9724-56370ca19b49",
   "metadata": {},
   "source": [
    "##### Data Science Tools:\n",
    "\n",
    "| Tools | Company |\n",
    "|-|-|\n",
    "| Tableau | Salesforce |\n",
    "| Power BI | Microsoft |\n",
    "| Python | Open Source |\n",
    "| R | R Studio |\n",
    "| Excel | Microsoft |\n",
    "| Power Query | Google |"
   ]
  },
  {
   "cell_type": "markdown",
   "id": "90fa0afd-7413-4468-a87f-fdf4ab0c1df7",
   "metadata": {},
   "source": [
    "### Below are a few examples of evaluating arithmetic expressions in Python\n",
    "\n",
    "- 1 + 1 = 2\n",
    "- 1 - 1 = 0\n",
    "- 1 * 1 = 1\n",
    "- 1 ** 1 = 1\n",
    "- 1 // 1 = 1"
   ]
  },
  {
   "cell_type": "code",
   "execution_count": 1,
   "id": "a2db8ebb-161d-4988-9dea-46a288cf2260",
   "metadata": {},
   "outputs": [
    {
     "data": {
      "text/plain": [
       "17"
      ]
     },
     "execution_count": 1,
     "metadata": {},
     "output_type": "execute_result"
    }
   ],
   "source": [
    "# This a simple arithmetic expression to mutiply then add integers\n",
    "(3 * 4) + 5"
   ]
  },
  {
   "cell_type": "code",
   "execution_count": 5,
   "id": "354b466d-2220-4510-8120-4390472f65e7",
   "metadata": {},
   "outputs": [
    {
     "name": "stdin",
     "output_type": "stream",
     "text": [
      "Minutes:  250\n"
     ]
    },
    {
     "name": "stdout",
     "output_type": "stream",
     "text": [
      "250.0 minutes is equal to 4.166666666666667 hours\n"
     ]
    }
   ],
   "source": [
    "# This will convert 200 minutes to hours by diving by 60\n",
    "minutes = float(input(\"Minutes: \")) #If the input is equal to 250, for example\n",
    "hours = minutes / 60\n",
    "print(str(minutes) + \" minutes is equal to \" + str(hours) + \" hours\")\n"
   ]
  },
  {
   "cell_type": "markdown",
   "id": "0e9e66ca-0291-4c3b-885c-f5b5c472ae6b",
   "metadata": {},
   "source": [
    "**Objectives**\n",
    "\n",
    "- List popular languages for Data Science\n",
    "- List popular tools for Data Science\n",
    "- Create Tables\n",
    "- Add comments to the code\n",
    "- Do arithmetic operations"
   ]
  },
  {
   "cell_type": "markdown",
   "id": "901fcf0c-f99e-42e1-aaeb-20cdff6bc3ae",
   "metadata": {},
   "source": [
    "## Author\n",
    "José Juan Sanz de Andino"
   ]
  }
 ],
 "metadata": {
  "kernelspec": {
   "display_name": "Python 3 (ipykernel)",
   "language": "python",
   "name": "python3"
  },
  "language_info": {
   "codemirror_mode": {
    "name": "ipython",
    "version": 3
   },
   "file_extension": ".py",
   "mimetype": "text/x-python",
   "name": "python",
   "nbconvert_exporter": "python",
   "pygments_lexer": "ipython3",
   "version": "3.9.13"
  }
 },
 "nbformat": 4,
 "nbformat_minor": 5
}
